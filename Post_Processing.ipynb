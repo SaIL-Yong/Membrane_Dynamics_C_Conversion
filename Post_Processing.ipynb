{
 "cells": [
  {
   "cell_type": "code",
   "execution_count": null,
   "id": "b6ca7a8f",
   "metadata": {},
   "outputs": [],
   "source": [
    "import igl\n",
    "import math\n",
    "import scipy as sp\n",
    "import numpy as np\n",
    "import meshplot as mp\n",
    "import pandas as pd\n",
    "import matplotlib.pyplot as plt\n",
    "import numba\n",
    "import os\n",
    "import csv\n",
    "import pandas as pd\n",
    "\n",
    "root_folder = os.getcwd()"
   ]
  },
  {
   "cell_type": "code",
   "execution_count": null,
   "id": "b1f2b506",
   "metadata": {},
   "outputs": [],
   "source": [
    "mesh_file_name=\"equilibrium.off\"\n",
    "mesh_file_path=\"/home/BU/dredwan1/membrane_dynamics_results/Particle_Interaction_Optimized_results/inside_particle/biased/rp=0.20/phi=0.9/\" + mesh_file_name\n",
    "\n",
    "absolute_file_path = os.path.abspath(mesh_file_path)\n",
    "# Read the mesh from the file\n",
    "v, f1 = igl.read_triangle_mesh(absolute_file_path)\n",
    "#v, f1 = igl.read_triangle_mesh(os.path.join(root_folder, \"dump00990000.off\"))### Read The Final Mesh Here\n",
    "v_init, f = igl.read_triangle_mesh(os.path.join(root_folder, \"start.off\") ) ### Read The Initial Mesh Here                         "
   ]
  },
  {
   "cell_type": "code",
   "execution_count": null,
   "id": "4ff5f554",
   "metadata": {
    "scrolled": true
   },
   "outputs": [],
   "source": [
    "#Mesh with particl\n",
    "rp=0.20\n",
    "rho=0.1*rp\n",
    "z=np.amax(v_init[:,2])-rp-1*rho\n",
    "x=0\n",
    "y=0\n",
    "fig = plt.figure(figsize =(14, 8))\n",
    "ax = plt.axes(projection ='3d')\n",
    "surf=ax.plot_trisurf(v[:,0], v[:,1], v[:,2], triangles = f1, edgecolor=[[0,0,0]], linewidth=0.9, alpha=0.0, shade=False)\n",
    "u, v1 = np.mgrid[0:2 * np.pi:30j, 0:np.pi:20j]\n",
    "x1 = (rp*(np.cos(u) * np.sin(v1)))\n",
    "y1 = (rp*(np.sin(u) * np.sin(v1)))\n",
    "z1 = (rp*(np.cos(v1)))+z\n",
    "surf=ax.plot_surface(x1, y1, z1)\n",
    "ax.view_init(0,0)\n",
    "ax = plt.gca()\n",
    "ax.set_xlim([-1, 1.5])\n",
    "ax.set_ylim([-1, 1])\n",
    "ax.set_zlim([-1, 1])\n",
    "xmin, xmax = ax.get_xlim()\n",
    "ymin, ymax = ax.get_ylim()\n",
    "ax.set_proj_type('ortho')\n",
    "ax.set_box_aspect((xmax-xmin, ymax-ymin,ymax-ymin))\n",
    "ax.set_zticks([])\n",
    "ax.set_xticks([])\n",
    "ax.set_yticks([])"
   ]
  },
  {
   "cell_type": "code",
   "execution_count": null,
   "id": "d345c170",
   "metadata": {
    "scrolled": false
   },
   "outputs": [],
   "source": [
    "p=mp.plot(v,f1,shading={\"wireframe\":True, \"wire_color\": \"black\", #Wireframerendering   \n",
    "                               \"width\": 300, \"height\": 300},return_plot=True) ###Viewing The Mesh"
   ]
  },
  {
   "cell_type": "code",
   "execution_count": null,
   "id": "71d66284",
   "metadata": {},
   "outputs": [],
   "source": [
    "len(f)"
   ]
  },
  {
   "cell_type": "code",
   "execution_count": null,
   "id": "07fb4f54",
   "metadata": {},
   "outputs": [],
   "source": [
    "average_edge_length=igl.avg_edge_length(v,f)\n"
   ]
  },
  {
   "cell_type": "code",
   "execution_count": null,
   "id": "7953a287",
   "metadata": {},
   "outputs": [],
   "source": [
    "def cal_volumetot(v,f):\n",
    "    Volumetot = 0\n",
    "    for i in range(len(f)):\n",
    "        sum=0\n",
    "        p0x=v[f[i][0]][0]\n",
    "        p0y=v[f[i][0]][1]\n",
    "        p0z=v[f[i][0]][2]\n",
    "        p1x=v[f[i][1]][0]\n",
    "        p1y=v[f[i][1]][1]\n",
    "        p1z=v[f[i][1]][2]\n",
    "        p2x=v[f[i][2]][0]\n",
    "        p2y=v[f[i][2]][1]\n",
    "        p2z=v[f[i][2]][2]\n",
    "        v321= p2x*p1y*p0z\n",
    "        v231= p1x*p2y*p0z\n",
    "        v312= p2x*p0y*p1z\n",
    "        v132= p0x*p2y*p1z\n",
    "        v213= p1x*p0y*p2z\n",
    "        v123= p0x*p1y*p2z\n",
    "        sum=(-v321+ v231+ v312-v132-v213+ v123) / 6.0\n",
    "        #print(sum)\n",
    "        Volumetot+=sum\n",
    "    return Volumetot\n"
   ]
  },
  {
   "cell_type": "code",
   "execution_count": null,
   "id": "d98b82c6",
   "metadata": {},
   "outputs": [],
   "source": [
    "### To chech the initial and final volume\n",
    "Volume_Final= cal_volumetot(v,f1)\n",
    "Volume_new=cal_volumetot(v_init,f)\n",
    "print(Volume_new)\n",
    "reduced_volume=Volume_new/(4/3)*np.pi\n",
    "print(reduced_volume)"
   ]
  },
  {
   "cell_type": "code",
   "execution_count": null,
   "id": "1145bdfb",
   "metadata": {},
   "outputs": [],
   "source": [
    "dbl_area = igl.doublearea(v, f1)    \n",
    "Areatot = np.sum(dbl_area)/2\n",
    "reduced_volume=(3/4)*(1/Areatot**(3/2))\n",
    "print(reduced_volume)"
   ]
  },
  {
   "cell_type": "code",
   "execution_count": null,
   "id": "d4ad6933",
   "metadata": {},
   "outputs": [],
   "source": [
    "Kb=0.01\n",
    "H0=0\n",
    "def Force_Bending(v,f):\n",
    "    npv = igl.per_vertex_normals(v, f)\n",
    "    K = igl.gaussian_curvature(v, f)\n",
    "    m = igl.massmatrix(v, f, igl.MASSMATRIX_TYPE_VORONOI)\n",
    "    minv = sp.sparse.diags(1 / m.diagonal())\n",
    "    area_voronoi=m.diagonal()\n",
    "    l = igl.cotmatrix(v, f) ###laplacian-operator\n",
    "    Hn = -minv.dot(l.dot(v))/2\n",
    "    H_mean = np.linalg.norm(Hn, axis=1)\n",
    "    sign_H = np.sign(np.sum(Hn*npv, axis=1))\n",
    "    H_mean_signed = H_mean*sign_H\n",
    "    Lap_H = minv.dot(l.dot(H_mean_signed-H0))\n",
    "    kn = minv.dot(K)\n",
    "    first_term = 2*(H_mean_signed-H0)*(H_mean_signed**2 + H0*H_mean_signed -kn)\n",
    "    totalforce = first_term + Lap_H\n",
    "    Force_bending = 2*Kb*npv*totalforce[:,None]*area_voronoi[:,None]\n",
    "\n",
    "    Eb = 2*Kb*(((H_mean_signed-H0)**2))*area_voronoi\n",
    "    total_EB = np.sum(Eb)\n",
    "        \n",
    "    return Force_bending,total_EB"
   ]
  },
  {
   "cell_type": "code",
   "execution_count": null,
   "id": "148d9557",
   "metadata": {},
   "outputs": [],
   "source": [
    "### To check the bending energy of the vesicle\n",
    "force,energy=Force_Bending(v,f1)\n",
    "energy"
   ]
  },
  {
   "cell_type": "code",
   "execution_count": null,
   "id": "b8ec4e10",
   "metadata": {},
   "outputs": [],
   "source": [
    "# with open('logfile_1.txt','r') as f: ###Give the file name here\n",
    "#     Energy1=[]\n",
    "#     string='Total Energy' ### Name it as the which energy term you want \n",
    "#     for line in f:\n",
    "#         if string in line:\n",
    "#             Energy1.append(float(line.split(': ')[1]))\n",
    "# print(Energy1)"
   ]
  },
  {
   "cell_type": "code",
   "execution_count": null,
   "id": "c0db8a73",
   "metadata": {},
   "outputs": [],
   "source": [
    "###Plotting Energy Contribution with resrpect to number of iterations\n",
    "import matplotlib as mpl\n",
    "mpl.rcParams['figure.dpi']=400\n",
    "plt.plot(number_of_iterations,BendingEnergy,'bo-',label='Bending Energy')\n",
    "plt.plot(number_of_iterations,AdhesionEnergy,'g<-',label='Adhesion Energy')\n",
    "plt.plot(number_of_iterations,TotalEnergy,'rs-',label='Total Energy')\n",
    "plt.plot(number_of_iterations,VolumeEnergy,'y<-',label='Volume Energy')\n",
    "plt.plot(number_of_iterations,BiasedEnergy,'k.-',label='Biased Energy')\n",
    "csfont={'fontname':'Times New Roman'}\n",
    "plt.xlabel('Number of Iterations',**csfont)\n",
    "plt.ylabel('Energy of the System',fontsize=12,**csfont)\n",
    "plt.title('Inside_Particle_u=2.1,rp=0.15,K_biased=1.0')\n",
    "plt.legend(loc='upper right')\n",
    "#plt.legend(loc='center left', bbox_to_anchor=(1, 0.5))"
   ]
  },
  {
   "cell_type": "markdown",
   "id": "313b8e55",
   "metadata": {},
   "source": [
    "CALCULATING WRAPPING FRACTION_\n"
   ]
  },
  {
   "cell_type": "code",
   "execution_count": null,
   "id": "7a6faf0a",
   "metadata": {
    "scrolled": true
   },
   "outputs": [],
   "source": [
    "Wrapping_Fraction_020=np.array([0.452346,0.67696,0.7472,0.82429,0.87866,0.8398864,0.9241084,0.86083088])\n",
    "Wrapping_Fraction_030=np.array([0.503228300,0.6344194,0.738762,0.802154,0.87590,0.92736,0.9220111,0.92555443])\n",
    "Wrapping_Fraction_015=np.array([0.375892,0.63448709,0.6645164,0.75456950,0.9119146,0.74677488,0.94166674,0.942738389])\n",
    "Rescaled_Adhesion_Strength=np.array([1.5,2.0,2.5,3.0,3.5,4.0,4.5,5.0])\n",
    "import matplotlib as mpl\n",
    "mpl.rcParams['figure.dpi']=300\n",
    "plt.plot(Rescaled_Adhesion_Strength,Wrapping_Fraction_015,'kx-.',label='Particle Radius=0.15')\n",
    "plt.plot(Rescaled_Adhesion_Strength,Wrapping_Fraction_030,'bo--',label='Particle Radius=0.30')\n",
    "plt.plot(Rescaled_Adhesion_Strength,Wrapping_Fraction_020,'g<-.',label='Particle Radius=0.20')\n",
    "csfont={'fontname':'Times New Roman'}\n",
    "plt.xlabel('Rescaled Adhesion Strength',**csfont)\n",
    "plt.ylabel('Wrapping Fraction',fontsize=12,**csfont)\n",
    "#plt.ylim((0.3, 1.0))\n",
    "plt.xticks(np.arange(1.5, 6.0, step=0.5)) \n",
    "plt.yticks(np.arange(0.3, 0.9, step=0.1)) \n",
    "plt.title('Inside_Particle_u=2.0,w/o angle_condition,Ka=2.0')\n",
    "plt.legend(loc='right')"
   ]
  },
  {
   "cell_type": "markdown",
   "id": "9fcf18f0",
   "metadata": {},
   "source": [
    "Reading Information from  log file"
   ]
  },
  {
   "cell_type": "code",
   "execution_count": null,
   "id": "b5192667",
   "metadata": {},
   "outputs": [],
   "source": [
    "import pandas as pd\n",
    "data = pd.read_csv(\"Insider_Particle_Energy.csv\")\n",
    "wrapping_fracction=np.array(data.iloc[:,0])\n",
    "total_energy=np.array(data.iloc[:,1])"
   ]
  },
  {
   "cell_type": "code",
   "execution_count": null,
   "id": "81b34262",
   "metadata": {},
   "outputs": [],
   "source": [
    "data = pd.read_csv(\"Insider_Particle_Bending_Energy.csv\")\n",
    "wrapping_fracction_bending=np.array(data.iloc[:,0])\n",
    "bending_energy=np.array(data.iloc[:,1])"
   ]
  },
  {
   "cell_type": "code",
   "execution_count": null,
   "id": "74893bbd",
   "metadata": {},
   "outputs": [],
   "source": [
    "# directory path where the text file is located\n",
    "dir_path = \"/home/BU/dredwan1/membrane_dynamics_results/Particle_Interaction_Optimized_results/inside_particle/biased/rp=0.20/phi=0.9\"\n",
    "\n",
    "# name of the text file\n",
    "file_name = \"logfile.txt\"\n",
    "\n",
    "# join the directory path and file name to get the absolute file path\n",
    "file_path = os.path.join(dir_path, file_name)\n",
    "\n",
    "# read the text file into a pandas DataFrame\n",
    "df = pd.read_csv(file_path, skiprows=1,skipfooter=1,delim_whitespace=True,engine='python')\n",
    "df.columns = ['Iteraion','Time', 'Area', 'Volume', 'ReducedVolume', 'BendingEnergy', \n",
    "              'AreaEnergy', 'VolumeEnergy', 'AdhesionEnergy', 'BiasedWrappingEnergy',\n",
    "              'TotalEnergy', 'EnergyChangeRate', 'ForceResidual']\n"
   ]
  },
  {
   "cell_type": "code",
   "execution_count": null,
   "id": "07919a3c",
   "metadata": {
    "scrolled": true
   },
   "outputs": [],
   "source": [
    "Bending_Energy= df.iloc[-1]['BendingEnergy']\n",
    "Total_Energy=df.iloc[-1]['TotalEnergy']\n",
    "Reduced_Volume=df.iloc[-1]['ReducedVolume']\n",
    "Adhesion_Energy=df.iloc[-1]['AdhesionEnergy']\n",
    "print(Bending_Energy)\n",
    "print(Reduced_Volume)"
   ]
  },
  {
   "cell_type": "code",
   "execution_count": null,
   "id": "34d3c81c",
   "metadata": {
    "scrolled": true
   },
   "outputs": [],
   "source": [
    "u=2\n",
    "Kb=0.01\n",
    "Rp=0.20\n",
    "U=(u*Kb)/Rp**2\n",
    "Wrapping_Fraction=Adhesion_Energy/(U*4*np.pi*(Rp**2)) \n",
    "print(Wrapping_Fraction)"
   ]
  },
  {
   "cell_type": "code",
   "execution_count": null,
   "id": "ca813250",
   "metadata": {},
   "outputs": [],
   "source": [
    "Wrapping_Fraction_biased=[0.2980,0.36224142,0.4237,0.48019,0.54273427,0.6154402283156275,0.692455305,0.7424180,0.7650737269] \n",
    "Bending_Energy_Biased=np.array([0.264799,0.273371,0.282844,0.292814,0.305507,0.322168,0.340929,0.354718,0.36145])/(8*np.pi*Kb)\n",
    "Total_Energy_Biased=np.array([0.202284,0.181181,0.17416,0.169682,0.166918,0.169179])/(8*np.pi*Kb)"
   ]
  },
  {
   "cell_type": "code",
   "execution_count": null,
   "id": "2292ca59",
   "metadata": {},
   "outputs": [],
   "source": [
    "import matplotlib as mpl\n",
    "mpl.rcParams['figure.dpi']=300\n",
    "plt.plot(wrapping_fracction_bending,bending_energy,'b--',label='Theoretical')\n",
    "plt.plot(Wrapping_Fraction_biased,Bending_Energy_Biased,'rs',label='u=2.0_biased_with_volume_constraint')\n",
    "# plt.plot(Wrapping_Fraction_biased_rv,Bending_Energy_Biased_rv,'<',label='u=2.0_biased_withour_volume_constraint')\n",
    "\n",
    "#plt.plot(Rescaled_Adhesion_Strength,Wrapping_Fraction_2,'g<-.',label='Particle Radius=0.20')\n",
    "csfont={'fontname':'Times New Roman'}\n",
    "plt.ylabel('Bending Energy/ 8*pi*Kb',**csfont)\n",
    "plt.xlabel('Wrapping Fraction',fontsize=12,**csfont)\n",
    "#plt.xlim((0.5, 5.5))\n",
    "plt.xticks(np.arange(0.0, 1.0, step=0.1)) \n",
    "# plt.yticks(np.arange(0.1, 0.9, step=0.1)) \n",
    "##plt.title('Inside_Particle_u=2.1,rp=0.15,K_biased=1.0')\n",
    "plt.legend(loc='upper left')"
   ]
  },
  {
   "cell_type": "code",
   "execution_count": null,
   "id": "2d37b010",
   "metadata": {},
   "outputs": [],
   "source": [
    "# reduced_volume_1280=[0.63504,0.68778,0.74051,0.79323,0.845890,0.94361]\n",
    "# oblate_numerical_1280=[0.469003/(8*3.14*0.01), 0.43625/(8*3.14*0.01),0.40417/(8*3.14*0.01),0.37260/(8*3.14*0.01),\n",
    "#    0.34105/(8*3.14*0.01),0.28318/(8*3.14*0.01)]\n",
    "reduced_volume_5120=[0.63336,0.687693,0.742101,0.796516,0.850845,0.904886,0.958345,0.999357]\n",
    "oblate_numerical_5120=[0.467539/(8*3.14*0.01),0.432937/(8*3.14*0.01),0.398996/(8*3.14*0.01),\n",
    "                       0.365826/(8*3.14*0.01),0.333561/(8*3.14*0.01),\n",
    "   0.302429/(8*3.14*0.01),0.272782/(8*3.14*0.01),0.251172/(8*3.14*0.01)]\n",
    "\n",
    "X_prolate=[0.9940438871473354, 0.9463949843260187, 0.8887147335423196, 0.8360501567398118, 0.7796238244514107, 0.7244514106583071,0.6855799373040751,0.6579937304075234, 0.6291536050156739,0.6078369905956111]\n",
    "Y_prolate=[1.011599266811777, 1.0977801268498946, 1.2005306241473042, 1.3066242097918122, 1.4259912100730066, 1.5652969724741979, 1.6780923567210655, 1.7876123475562127, 1.9270274633145523, 2.0199621949822433]\n",
    "\n",
    "\n",
    "X_oblate=[0.9840920486789093, 0.9452574637651237,0.8943557949256427, 0.8421091441077404,0.795214105793451,\n",
    "   0.7563559247046054,0.7148219373639533,0.6839958942655395,\n",
    "   0.649144343701886,0.5982237979223568, 0.5499696199246102, 0.5245046277998338]\n",
    "Y_oblate= [1.0360947740371285, 1.1134902282340031, 1.2261147717954919,1.3457945716999273, 1.4584545095240062, \n",
    "    1.5535175997970727, 1.6520906211103181, 1.7330903910476114, 1.828188875583268, \n",
    "    1.9549475280057105, 2.085263303818451, 2.1521761572449107]\n",
    "# X1=[0.9940438871473354, 0.9463949843260187, 0.8887147335423196, 0.8360501567398118, 0.7796238244514107, \n",
    "#    0.7244514106583071,0.6855799373040751,0.6579937304075234, 0.6291536050156739,0.6078369905956111]\n",
    "# Y1=[1.011599266811777, 1.0977801268498946, 1.2005306241473042, 1.3066242097918122, 1.4259912100730066, \n",
    "#    1.5652969724741979, 1.6780923567210655, 1.7876123475562127, 1.9270274633145523, 2.0199621949822433]\n",
    "\n",
    "x1=[0.717466,0.743963,0.791581,0.842263,0.895028,0.949205,0.999083]\n",
    "y1=[0.398191/(8*3.14*0.01),0.379601/(8*3.14*0.01),0.351821/(8*3.14*0.01),0.32575/(8*3.14*0.01),\n",
    "0.300358/(8*3.14*0.01),0.274926/(8*3.14*0.01),0.25116/(8*3.14*0.01)]\n",
    "\n",
    "\n",
    "\n",
    "import matplotlib as mpl\n",
    "csfont={'fontname':'Times New Roman'}\n",
    "mpl.rcParams['figure.dpi'] = 400\n",
    "f,ax=plt.subplots(figsize=(5,3.3))\n",
    "\n",
    "plt.axis([0.5, 1, 1, 2.4])\n",
    "plt.plot(reduced_volume_5120,oblate_numerical_5120,'o',linewidth=2,markersize=6,label='Oblate')\n",
    "# plt.plot(reduced_volume_1280,oblate_numerical_1280,'rs',linewidth=2)\n",
    "plt.plot(X_oblate,Y_oblate,'k--',linewidth=2,label='Oblate Branch')\n",
    "plt.plot(X_prolate,Y_prolate,'r--',linewidth=2,label= 'Prolate Branch')\n",
    "plt.plot(x1,y1,'s',linewidth=2,markersize=6,label='Prolate',color='green')\n",
    "# plt.plot(x2,y2,'bs',linewidth=2)\n",
    "\n",
    "\n",
    "\n",
    "plt.xlabel('reduced volume ',**csfont,fontsize=20)\n",
    "\n",
    "# plt.legend(['Nv=460','Nv=1027','Nv=1662','Nv=3264','Theory(Seifert et al.)'])\n",
    "\n",
    "plt.ylabel('Bending Energy $(E_B)/(8 \\pi K_B $ )',**csfont,fontsize=12)\n",
    "plt.xlabel('Reduced Volume ',**csfont,fontsize=12)\n",
    "# plt.legend(['Nv=460','Nv=1027','Nv=1662','Nv=3264','Theory(Seifert et al.)'])\n",
    "#plt.legend(['Theory oblate Branch','number of faces:5120','number of faces:1280','Theory prolate branch','number of faces:5120','number of faces:1280'],loc='upper right',frameon=False,fontsize=8)\n",
    "plt.legend(loc='upper right')\n",
    "\n",
    "#plt.title('Using C++',**csfont,fontsize=16)\n",
    "ax.tick_params(axis=\"x\", direction=\"in\")\n",
    "ax.tick_params(axis=\"y\", direction=\"in\")\n",
    "\n",
    "plt.title(\"Comparison between theoretical and numerical results\")\n",
    "#plt.margins(x=0)\n",
    "#plt.savefig('Bending_Energy.tiff')\n",
    "plt.show()"
   ]
  },
  {
   "cell_type": "code",
   "execution_count": null,
   "id": "2449d36c",
   "metadata": {},
   "outputs": [],
   "source": [
    "Wrapping_Fraction_non_biased=Wrapping_Fraction\n",
    "Total_Energy_non_biased=Total_Energy/(8*np.pi*Kb)"
   ]
  },
  {
   "cell_type": "code",
   "execution_count": null,
   "id": "0a8bac13",
   "metadata": {},
   "outputs": [],
   "source": [
    "import matplotlib as mpl\n",
    "mpl.rcParams['figure.dpi']=300\n",
    "plt.plot(wrapping_fracction,total_energy,'bo--',label='Theoretical')\n",
    "plt.plot(Wrapping_Fraction_biased_rv,Total_Energy_Biased_rv,'X',label='Biased')\n",
    "#plt.plot(0.41165823918076466,Total_Energy_non_biased,'s',label='Non_Biased')\n",
    "#plt.plot(Rescaled_Adhesion_Strength,Wrapping_Fraction_2,'g<-.',label='Particle Radius=0.20')\n",
    "csfont={'fontname':'Times New Roman'}\n",
    "plt.ylabel('Total Energy/8*pi*Kb',**csfont)\n",
    "plt.xlabel('Wrapping Fraction',fontsize=12,**csfont)\n",
    "#plt.xlim((0.5, 5.5))\n",
    "plt.xticks(np.arange(0.0, 1.0, step=0.1)) \n",
    "# plt.yticks(np.arange(0.1, 0.9, step=0.1)) \n",
    "##plt.title('Inside_Particle_u=2.1,rp=0.15,K_biased=1.0')\n",
    "plt.legend(loc='right')"
   ]
  }
 ],
 "metadata": {
  "kernelspec": {
   "display_name": "Python 3 (ipykernel)",
   "language": "python",
   "name": "python3"
  },
  "language_info": {
   "codemirror_mode": {
    "name": "ipython",
    "version": 3
   },
   "file_extension": ".py",
   "mimetype": "text/x-python",
   "name": "python",
   "nbconvert_exporter": "python",
   "pygments_lexer": "ipython3",
   "version": "3.9.12"
  }
 },
 "nbformat": 4,
 "nbformat_minor": 5
}
